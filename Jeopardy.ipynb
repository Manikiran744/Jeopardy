{
  "nbformat": 4,
  "nbformat_minor": 0,
  "metadata": {
    "colab": {
      "name": "Jeopardy.ipynb",
      "provenance": [],
      "collapsed_sections": []
    },
    "kernelspec": {
      "name": "python3",
      "display_name": "Python 3"
    }
  },
  "cells": [
    {
      "cell_type": "markdown",
      "metadata": {
        "id": "qEBjATwzY_up"
      },
      "source": [
        "# Importing Data Set from Kaggle"
      ]
    },
    {
      "cell_type": "code",
      "metadata": {
        "colab": {
          "base_uri": "https://localhost:8080/"
        },
        "id": "O-msPpmjIJ3a",
        "outputId": "cf23e310-984c-45b3-87cb-689194c98e14"
      },
      "source": [
        "#importing libraries\r\n",
        "\r\n",
        "import numpy as np\r\n",
        "import matplotlib.pyplot as plt\r\n",
        "import pandas as pd\r\n",
        "import re\r\n",
        "import nltk\r\n",
        "nltk.download('stopwords')\r\n",
        "from nltk.corpus import stopwords\r\n",
        "from nltk.stem.porter import PorterStemmer\r\n",
        "from nltk.stem import WordNetLemmatizer\r\n",
        "from google.colab import files\r\n",
        "\r\n",
        "# Install Kaggle library\r\n",
        "!pip install -q kaggle\r\n"
      ],
      "execution_count": null,
      "outputs": [
        {
          "output_type": "stream",
          "text": [
            "[nltk_data] Downloading package stopwords to /root/nltk_data...\n",
            "[nltk_data]   Package stopwords is already up-to-date!\n"
          ],
          "name": "stdout"
        }
      ]
    },
    {
      "cell_type": "code",
      "metadata": {
        "id": "ADo6EdWSZ_Qm"
      },
      "source": [
        "! cp /root/kaggle/kaggle.json ~/.kaggle/\r\n",
        "!chmod 600 /root/.kaggle/kaggle.json"
      ],
      "execution_count": null,
      "outputs": []
    },
    {
      "cell_type": "code",
      "metadata": {
        "id": "11xAQJTfSzqb"
      },
      "source": [
        "!kaggle datasets download -d tunguz/200000-jeopardy-questions"
      ],
      "execution_count": null,
      "outputs": []
    },
    {
      "cell_type": "code",
      "metadata": {
        "id": "n_ArDEd9W5lx"
      },
      "source": [
        "df = pd.read_csv(\"/content/200000-jeopardy-questions.zip\")"
      ],
      "execution_count": null,
      "outputs": []
    },
    {
      "cell_type": "code",
      "metadata": {
        "colab": {
          "base_uri": "https://localhost:8080/",
          "height": 195
        },
        "id": "Xd45ISAbXMNb",
        "outputId": "598a9d17-b220-4c66-b866-2adcd4273a64"
      },
      "source": [
        "df.tail()"
      ],
      "execution_count": null,
      "outputs": [
        {
          "output_type": "execute_result",
          "data": {
            "text/html": [
              "<div>\n",
              "<style scoped>\n",
              "    .dataframe tbody tr th:only-of-type {\n",
              "        vertical-align: middle;\n",
              "    }\n",
              "\n",
              "    .dataframe tbody tr th {\n",
              "        vertical-align: top;\n",
              "    }\n",
              "\n",
              "    .dataframe thead th {\n",
              "        text-align: right;\n",
              "    }\n",
              "</style>\n",
              "<table border=\"1\" class=\"dataframe\">\n",
              "  <thead>\n",
              "    <tr style=\"text-align: right;\">\n",
              "      <th></th>\n",
              "      <th>Show Number</th>\n",
              "      <th>Air Date</th>\n",
              "      <th>Round</th>\n",
              "      <th>Category</th>\n",
              "      <th>Value</th>\n",
              "      <th>Question</th>\n",
              "      <th>Answer</th>\n",
              "    </tr>\n",
              "  </thead>\n",
              "  <tbody>\n",
              "    <tr>\n",
              "      <th>216925</th>\n",
              "      <td>4999</td>\n",
              "      <td>2006-05-11</td>\n",
              "      <td>Double Jeopardy!</td>\n",
              "      <td>RIDDLE ME THIS</td>\n",
              "      <td>$2000</td>\n",
              "      <td>This Puccini opera turns on the solution to 3 ...</td>\n",
              "      <td>Turandot</td>\n",
              "    </tr>\n",
              "    <tr>\n",
              "      <th>216926</th>\n",
              "      <td>4999</td>\n",
              "      <td>2006-05-11</td>\n",
              "      <td>Double Jeopardy!</td>\n",
              "      <td>\"T\" BIRDS</td>\n",
              "      <td>$2000</td>\n",
              "      <td>In North America this term is properly applied...</td>\n",
              "      <td>a titmouse</td>\n",
              "    </tr>\n",
              "    <tr>\n",
              "      <th>216927</th>\n",
              "      <td>4999</td>\n",
              "      <td>2006-05-11</td>\n",
              "      <td>Double Jeopardy!</td>\n",
              "      <td>AUTHORS IN THEIR YOUTH</td>\n",
              "      <td>$2000</td>\n",
              "      <td>In Penny Lane, where this \"Hellraiser\" grew up...</td>\n",
              "      <td>Clive Barker</td>\n",
              "    </tr>\n",
              "    <tr>\n",
              "      <th>216928</th>\n",
              "      <td>4999</td>\n",
              "      <td>2006-05-11</td>\n",
              "      <td>Double Jeopardy!</td>\n",
              "      <td>QUOTATIONS</td>\n",
              "      <td>$2000</td>\n",
              "      <td>From Ft. Sill, Okla. he made the plea, Arizona...</td>\n",
              "      <td>Geronimo</td>\n",
              "    </tr>\n",
              "    <tr>\n",
              "      <th>216929</th>\n",
              "      <td>4999</td>\n",
              "      <td>2006-05-11</td>\n",
              "      <td>Final Jeopardy!</td>\n",
              "      <td>HISTORIC NAMES</td>\n",
              "      <td>None</td>\n",
              "      <td>A silent movie title includes the last name of...</td>\n",
              "      <td>Grigori Alexandrovich Potemkin</td>\n",
              "    </tr>\n",
              "  </tbody>\n",
              "</table>\n",
              "</div>"
            ],
            "text/plain": [
              "        Show Number  ...                          Answer\n",
              "216925         4999  ...                        Turandot\n",
              "216926         4999  ...                      a titmouse\n",
              "216927         4999  ...                    Clive Barker\n",
              "216928         4999  ...                        Geronimo\n",
              "216929         4999  ...  Grigori Alexandrovich Potemkin\n",
              "\n",
              "[5 rows x 7 columns]"
            ]
          },
          "metadata": {
            "tags": []
          },
          "execution_count": 7
        }
      ]
    },
    {
      "cell_type": "code",
      "metadata": {
        "colab": {
          "base_uri": "https://localhost:8080/"
        },
        "id": "Ghc7duzKZHgH",
        "outputId": "b8a19f32-1cc5-4616-f579-b062c4df30c2"
      },
      "source": [
        "\r\n",
        "df.info()\r\n",
        "\r\n",
        "# Pruing None values from dataset \r\n",
        "\r\n",
        "df =df[df[' Value'] != 'None']\r\n"
      ],
      "execution_count": null,
      "outputs": [
        {
          "output_type": "stream",
          "text": [
            "<class 'pandas.core.frame.DataFrame'>\n",
            "RangeIndex: 216930 entries, 0 to 216929\n",
            "Data columns (total 7 columns):\n",
            " #   Column       Non-Null Count   Dtype \n",
            "---  ------       --------------   ----- \n",
            " 0   Show Number  216930 non-null  int64 \n",
            " 1    Air Date    216930 non-null  object\n",
            " 2    Round       216930 non-null  object\n",
            " 3    Category    216930 non-null  object\n",
            " 4    Value       216930 non-null  object\n",
            " 5    Question    216930 non-null  object\n",
            " 6    Answer      216928 non-null  object\n",
            "dtypes: int64(1), object(6)\n",
            "memory usage: 11.6+ MB\n"
          ],
          "name": "stdout"
        }
      ]
    },
    {
      "cell_type": "code",
      "metadata": {
        "id": "3RIOrrCR3irQ"
      },
      "source": [
        "\r\n",
        "# Converting values in [ ' Value' ] column in to intgers after preprocessing each value.\r\n",
        "\r\n",
        "df[' Value']  = df[' Value'].apply(\r\n",
        "    lambda value: (value.replace(',', '').replace('$' , ''))\r\n",
        ")\r\n"
      ],
      "execution_count": null,
      "outputs": []
    },
    {
      "cell_type": "code",
      "metadata": {
        "id": "8sDtc1TiXWkf"
      },
      "source": [
        "# We need to predict value of the question. \r\n",
        "\r\n",
        "#Assumptions :\r\n",
        "# Value of question does not depend on show number , Air Date , Round , Category , Answer\r\n",
        "# We use question as independent variable in predicting the value of the question\r\n",
        "\r\n",
        "# Idea : \r\n",
        "\r\n",
        "#1) We use bag of model concept. \r\n",
        "#2) And use Binning concept on [value] in order to find categories. \r\n",
        "#3) Then perform a multi-class classfication  using Logistic Regression."
      ],
      "execution_count": null,
      "outputs": []
    },
    {
      "cell_type": "markdown",
      "metadata": {
        "id": "G18MsrVAaDmm"
      },
      "source": [
        "#Data Preprocessing"
      ]
    },
    {
      "cell_type": "code",
      "metadata": {
        "colab": {
          "base_uri": "https://localhost:8080/"
        },
        "id": "vBKacjTaY4cf",
        "outputId": "8a4364fe-5310-4064-fe4d-9b124610d5b7"
      },
      "source": [
        "# columns in dataset\r\n",
        "\r\n",
        "columnsList = df.columns\r\n",
        "print(columnsList)"
      ],
      "execution_count": null,
      "outputs": [
        {
          "output_type": "stream",
          "text": [
            "Index(['Show Number', ' Air Date', ' Round', ' Category', ' Value',\n",
            "       ' Question', ' Answer'],\n",
            "      dtype='object')\n"
          ],
          "name": "stdout"
        }
      ]
    },
    {
      "cell_type": "code",
      "metadata": {
        "id": "PGCf0q-spw7W"
      },
      "source": [
        "# Creating categories by using binnig concept\r\n",
        "\r\n",
        "# Below funciton will round the value to its nearest hundread or thousand based on the if else condition if falls below\r\n",
        "\r\n",
        "def convert_to_categories(x):\r\n",
        "    if int(x) < 1000:\r\n",
        "        return np.round(int(x), -2)\r\n",
        "    elif int(x) < 10000:\r\n",
        "        return np.round(int(x), -3)\r\n",
        "    else:\r\n",
        "        return np.round(int(x), -4)\r\n",
        "\r\n",
        "df['New_value'] = df[' Value'].apply(convert_to_categories)"
      ],
      "execution_count": null,
      "outputs": []
    },
    {
      "cell_type": "code",
      "metadata": {
        "colab": {
          "base_uri": "https://localhost:8080/",
          "height": 195
        },
        "id": "ZB-X7iYZ6PCi",
        "outputId": "8048f0e3-a116-475d-946e-ada032a26069"
      },
      "source": [
        "df.head()"
      ],
      "execution_count": null,
      "outputs": [
        {
          "output_type": "execute_result",
          "data": {
            "text/html": [
              "<div>\n",
              "<style scoped>\n",
              "    .dataframe tbody tr th:only-of-type {\n",
              "        vertical-align: middle;\n",
              "    }\n",
              "\n",
              "    .dataframe tbody tr th {\n",
              "        vertical-align: top;\n",
              "    }\n",
              "\n",
              "    .dataframe thead th {\n",
              "        text-align: right;\n",
              "    }\n",
              "</style>\n",
              "<table border=\"1\" class=\"dataframe\">\n",
              "  <thead>\n",
              "    <tr style=\"text-align: right;\">\n",
              "      <th></th>\n",
              "      <th>Show Number</th>\n",
              "      <th>Air Date</th>\n",
              "      <th>Round</th>\n",
              "      <th>Category</th>\n",
              "      <th>Value</th>\n",
              "      <th>Question</th>\n",
              "      <th>Answer</th>\n",
              "      <th>New_value</th>\n",
              "    </tr>\n",
              "  </thead>\n",
              "  <tbody>\n",
              "    <tr>\n",
              "      <th>0</th>\n",
              "      <td>4680</td>\n",
              "      <td>2004-12-31</td>\n",
              "      <td>Jeopardy!</td>\n",
              "      <td>HISTORY</td>\n",
              "      <td>200</td>\n",
              "      <td>For the last 8 years of his life, Galileo was ...</td>\n",
              "      <td>Copernicus</td>\n",
              "      <td>200</td>\n",
              "    </tr>\n",
              "    <tr>\n",
              "      <th>1</th>\n",
              "      <td>4680</td>\n",
              "      <td>2004-12-31</td>\n",
              "      <td>Jeopardy!</td>\n",
              "      <td>ESPN's TOP 10 ALL-TIME ATHLETES</td>\n",
              "      <td>200</td>\n",
              "      <td>No. 2: 1912 Olympian; football star at Carlisl...</td>\n",
              "      <td>Jim Thorpe</td>\n",
              "      <td>200</td>\n",
              "    </tr>\n",
              "    <tr>\n",
              "      <th>2</th>\n",
              "      <td>4680</td>\n",
              "      <td>2004-12-31</td>\n",
              "      <td>Jeopardy!</td>\n",
              "      <td>EVERYBODY TALKS ABOUT IT...</td>\n",
              "      <td>200</td>\n",
              "      <td>The city of Yuma in this state has a record av...</td>\n",
              "      <td>Arizona</td>\n",
              "      <td>200</td>\n",
              "    </tr>\n",
              "    <tr>\n",
              "      <th>3</th>\n",
              "      <td>4680</td>\n",
              "      <td>2004-12-31</td>\n",
              "      <td>Jeopardy!</td>\n",
              "      <td>THE COMPANY LINE</td>\n",
              "      <td>200</td>\n",
              "      <td>In 1963, live on \"The Art Linkletter Show\", th...</td>\n",
              "      <td>McDonald's</td>\n",
              "      <td>200</td>\n",
              "    </tr>\n",
              "    <tr>\n",
              "      <th>4</th>\n",
              "      <td>4680</td>\n",
              "      <td>2004-12-31</td>\n",
              "      <td>Jeopardy!</td>\n",
              "      <td>EPITAPHS &amp; TRIBUTES</td>\n",
              "      <td>200</td>\n",
              "      <td>Signer of the Dec. of Indep., framer of the Co...</td>\n",
              "      <td>John Adams</td>\n",
              "      <td>200</td>\n",
              "    </tr>\n",
              "  </tbody>\n",
              "</table>\n",
              "</div>"
            ],
            "text/plain": [
              "   Show Number    Air Date  ...      Answer New_value\n",
              "0         4680  2004-12-31  ...  Copernicus       200\n",
              "1         4680  2004-12-31  ...  Jim Thorpe       200\n",
              "2         4680  2004-12-31  ...     Arizona       200\n",
              "3         4680  2004-12-31  ...  McDonald's       200\n",
              "4         4680  2004-12-31  ...  John Adams       200\n",
              "\n",
              "[5 rows x 8 columns]"
            ]
          },
          "metadata": {
            "tags": []
          },
          "execution_count": 14
        }
      ]
    },
    {
      "cell_type": "code",
      "metadata": {
        "id": "LAfvr1p_bkYE"
      },
      "source": [
        "# 2D arrays storing [\"Values\"]  and  [\"Question\"] columns series from dataset \r\n",
        "\r\n",
        "X = df.iloc[:,  5].values\r\n",
        "y= df.iloc[: ,-1].values"
      ],
      "execution_count": null,
      "outputs": []
    },
    {
      "cell_type": "code",
      "metadata": {
        "id": "aP8YXIDEbbYe"
      },
      "source": [
        "data_"
      ],
      "execution_count": null,
      "outputs": []
    },
    {
      "cell_type": "code",
      "metadata": {
        "colab": {
          "base_uri": "https://localhost:8080/"
        },
        "id": "qcAWpS0jcQwK",
        "outputId": "2c02dc7c-251a-461b-96ad-0cf7f6bc2aff"
      },
      "source": [
        "print(X)\r\n",
        "print(y)\r\n",
        "\r\n",
        "print(len(X))\r\n",
        "print(len(y))"
      ],
      "execution_count": null,
      "outputs": [
        {
          "output_type": "stream",
          "text": [
            "[\"For the last 8 years of his life, Galileo was under house arrest for espousing this man's theory\"\n",
            " 'No. 2: 1912 Olympian; football star at Carlisle Indian School; 6 MLB seasons with the Reds, Giants & Braves'\n",
            " 'The city of Yuma in this state has a record average of 4,055 hours of sunshine each year'\n",
            " ...\n",
            " 'In North America this term is properly applied to only 4 species that are crested, including the tufted'\n",
            " 'In Penny Lane, where this \"Hellraiser\" grew up, the barber shaves another customer--then flays him alive!'\n",
            " 'From Ft. Sill, Okla. he made the plea, Arizona is my land, my home, my father\\'s land, to which I now ask to... return\"']\n",
            "[ 200  200  200 ... 2000 2000 2000]\n",
            "213296\n",
            "213296\n"
          ],
          "name": "stdout"
        }
      ]
    },
    {
      "cell_type": "code",
      "metadata": {
        "id": "HaE7nObJccD8"
      },
      "source": [
        "# Building bag of words\r\n",
        "\r\n",
        "corpus = []\r\n",
        "\r\n",
        "length = df.shape[0]\r\n",
        "\r\n",
        "for i in range(len(X)):\r\n",
        "  review = re.sub('[^a-zA-Z]', ' ', X[i])\r\n",
        "  review = review.lower()\r\n",
        "  review = review.split()\r\n",
        "  ps = PorterStemmer()\r\n",
        "  all_stopwords = stopwords.words('english')\r\n",
        "  all_stopwords.remove('not')\r\n",
        "  review = [ps.stem(word) for word in review if not word in set(all_stopwords)]\r\n",
        "  review = ' '.join(review)\r\n",
        "  corpus.append(review)"
      ],
      "execution_count": null,
      "outputs": []
    },
    {
      "cell_type": "code",
      "metadata": {
        "colab": {
          "base_uri": "https://localhost:8080/"
        },
        "id": "HLsmomDhdfIk",
        "outputId": "626674f5-dfde-479d-b9be-e5c67e1896ba"
      },
      "source": [
        "print(len(corpus))"
      ],
      "execution_count": null,
      "outputs": [
        {
          "output_type": "stream",
          "text": [
            "213296\n"
          ],
          "name": "stdout"
        }
      ]
    },
    {
      "cell_type": "code",
      "metadata": {
        "id": "Sjsx2YVKdp9P"
      },
      "source": [
        "# Vectorizing the corpus array......!!!\r\n",
        "\r\n",
        "from sklearn.feature_extraction.text import CountVectorizer\r\n",
        "cv = CountVectorizer(max_features = 2000)\r\n",
        "X_modified = cv.fit_transform(corpus).toarray()\r\n"
      ],
      "execution_count": null,
      "outputs": []
    },
    {
      "cell_type": "code",
      "metadata": {
        "id": "bjTmK3S7d5jd"
      },
      "source": [
        "# Creating train and test data split\r\n",
        "\r\n",
        "\r\n",
        "from sklearn.model_selection import train_test_split\r\n",
        "X_train, X_test, y_train, y_test = train_test_split(X_modified, y, test_size = 0.25, random_state = 0)"
      ],
      "execution_count": null,
      "outputs": []
    },
    {
      "cell_type": "code",
      "metadata": {
        "id": "mDZM8zFAd_mi"
      },
      "source": [
        "# Training the model using Logistic Regression \r\n",
        "\r\n",
        "from numpy import mean\r\n",
        "from numpy import std\r\n",
        "from sklearn.model_selection import cross_val_score\r\n",
        "\r\n",
        "from sklearn.linear_model import LogisticRegression\r\n",
        "\r\n",
        "model = LogisticRegression(multi_class='multinomial', solver='saga' ,max_iter=200)\r\n",
        "model.fit(X_train , y_train)\r\n"
      ],
      "execution_count": null,
      "outputs": []
    },
    {
      "cell_type": "code",
      "metadata": {
        "colab": {
          "base_uri": "https://localhost:8080/"
        },
        "id": "R-464MPBeV0s",
        "outputId": "c7cfa670-47e4-4a71-9b9b-bd974d22de93"
      },
      "source": [
        "# Predicting the metrics for the model.\r\n",
        "\r\n",
        "y_pred = model.predict(X_test)\r\n",
        "\r\n",
        "from sklearn.metrics import accuracy_score, classification_report\r\n",
        "accuracy_score = accuracy_score(y_test, y_pred)\r\n",
        "y_pred = model.predict(X_test)\r\n",
        "print(\"Acuracy of model\" , accuracy_score)\r\n",
        "print(classification_report(y_test, y_pred))"
      ],
      "execution_count": null,
      "outputs": [
        {
          "output_type": "stream",
          "text": [
            "Acuracy of model 0.19287750356312355\n",
            "              precision    recall  f1-score   support\n",
            "\n",
            "           0       0.00      0.00      0.00         3\n",
            "         100       0.08      0.00      0.01      2233\n",
            "         200       0.18      0.14      0.16      7731\n",
            "         300       0.05      0.00      0.00      2234\n",
            "         400       0.21      0.55      0.30     10559\n",
            "         500       0.05      0.00      0.01      2196\n",
            "         600       0.14      0.02      0.04      5170\n",
            "         700       0.00      0.00      0.00        48\n",
            "         800       0.15      0.10      0.12      7991\n",
            "         900       0.00      0.00      0.00        28\n",
            "        1000       0.18      0.20      0.19      8248\n",
            "        2000       0.23      0.13      0.17      6303\n",
            "        3000       0.00      0.00      0.00       284\n",
            "        4000       0.00      0.00      0.00       145\n",
            "        5000       0.00      0.00      0.00        80\n",
            "        6000       0.00      0.00      0.00        28\n",
            "        7000       0.00      0.00      0.00        13\n",
            "        8000       0.00      0.00      0.00        10\n",
            "        9000       0.00      0.00      0.00         5\n",
            "       10000       0.00      0.00      0.00        14\n",
            "       20000       0.00      0.00      0.00         1\n",
            "\n",
            "    accuracy                           0.19     53324\n",
            "   macro avg       0.06      0.05      0.05     53324\n",
            "weighted avg       0.17      0.19      0.15     53324\n",
            "\n"
          ],
          "name": "stdout"
        },
        {
          "output_type": "stream",
          "text": [
            "/usr/local/lib/python3.7/dist-packages/sklearn/metrics/_classification.py:1272: UndefinedMetricWarning: Precision and F-score are ill-defined and being set to 0.0 in labels with no predicted samples. Use `zero_division` parameter to control this behavior.\n",
            "  _warn_prf(average, modifier, msg_start, len(result))\n"
          ],
          "name": "stderr"
        }
      ]
    }
  ]
}