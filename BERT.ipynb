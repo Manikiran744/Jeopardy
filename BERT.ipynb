{
  "nbformat": 4,
  "nbformat_minor": 0,
  "metadata": {
    "colab": {
      "name": "BERT.ipynb",
      "provenance": [],
      "collapsed_sections": []
    },
    "kernelspec": {
      "name": "python3",
      "display_name": "Python 3"
    },
    "accelerator": "GPU"
  },
  "cells": [
    {
      "cell_type": "markdown",
      "metadata": {
        "id": "v-mLJZvSMppo"
      },
      "source": [
        "#Importing Libraries and Dataset\r\n"
      ]
    },
    {
      "cell_type": "code",
      "metadata": {
        "id": "-rGN1TnqVh0b"
      },
      "source": [
        "!pip3 install ktrain"
      ],
      "execution_count": null,
      "outputs": []
    },
    {
      "cell_type": "code",
      "metadata": {
        "colab": {
          "base_uri": "https://localhost:8080/"
        },
        "id": "Q40ETWbpVzWC",
        "outputId": "b01fc315-fc48-4db5-ddfd-4f3c84b96c6f"
      },
      "source": [
        "#Importing libraries\r\n",
        "\r\n",
        "import pandas as pd\r\n",
        "import numpy as np\r\n",
        "\r\n",
        "import ktrain\r\n",
        "from ktrain import text\r\n",
        "import re\r\n",
        "import nltk\r\n",
        "nltk.download('stopwords')\r\n",
        "from nltk.corpus import stopwords\r\n",
        "from nltk.stem.porter import PorterStemmer\r\n",
        "from nltk.stem import WordNetLemmatizer\r\n",
        "from google.colab import files\r\n"
      ],
      "execution_count": 2,
      "outputs": [
        {
          "output_type": "stream",
          "text": [
            "[nltk_data] Downloading package stopwords to /root/nltk_data...\n",
            "[nltk_data]   Package stopwords is already up-to-date!\n"
          ],
          "name": "stdout"
        }
      ]
    },
    {
      "cell_type": "code",
      "metadata": {
        "id": "9JKl6GbixUjY"
      },
      "source": [
        "!pip install -q kaggle\r\n",
        "uploaded = files.upload()\r\n",
        "\r\n",
        "! mkdir ~/.kaggle\r\n",
        "! cp kaggle.json ~/.kaggle/\r\n",
        "! chmod 600 ~/.kaggle/kaggle.json"
      ],
      "execution_count": 4,
      "outputs": []
    },
    {
      "cell_type": "code",
      "metadata": {
        "colab": {
          "base_uri": "https://localhost:8080/"
        },
        "id": "Mm0RV9T3yLlT",
        "outputId": "6de3c604-2fb5-4a2a-9dfb-b9dfe8c301f0"
      },
      "source": [
        "#Importing DataSet\r\n",
        "\r\n",
        "!kaggle datasets download -d tunguz/200000-jeopardy-questions"
      ],
      "execution_count": 8,
      "outputs": [
        {
          "output_type": "stream",
          "text": [
            "Downloading 200000-jeopardy-questions.zip to /content\n",
            " 78% 9.00M/11.5M [00:00<00:00, 15.7MB/s]\n",
            "100% 11.5M/11.5M [00:00<00:00, 18.1MB/s]\n"
          ],
          "name": "stdout"
        }
      ]
    },
    {
      "cell_type": "code",
      "metadata": {
        "id": "PtltjTK5yzIj"
      },
      "source": [
        "#Loading dataset\r\n",
        "\r\n",
        "df = pd.read_csv(\"/content/200000-jeopardy-questions.zip\")"
      ],
      "execution_count": 26,
      "outputs": []
    },
    {
      "cell_type": "code",
      "metadata": {
        "colab": {
          "base_uri": "https://localhost:8080/"
        },
        "id": "jDx-4xErTpmJ",
        "outputId": "290e0b5f-756a-4c8c-e978-f0e4e26d0d88"
      },
      "source": [
        "ppp =pd.read_csv(\"/content/200000-jeopardy-questions.zip\")\r\n",
        "ppp.shape"
      ],
      "execution_count": 64,
      "outputs": [
        {
          "output_type": "execute_result",
          "data": {
            "text/plain": [
              "(216930, 7)"
            ]
          },
          "metadata": {
            "tags": []
          },
          "execution_count": 64
        }
      ]
    },
    {
      "cell_type": "markdown",
      "metadata": {
        "id": "rsOfgN0zNKZl"
      },
      "source": [
        "#Preprocessing"
      ]
    },
    {
      "cell_type": "code",
      "metadata": {
        "id": "0nVl6C3vbv7P"
      },
      "source": [
        "#Removing None values from dataset\r\n",
        "\r\n",
        "df =df[df[' Value'] != 'None']"
      ],
      "execution_count": 27,
      "outputs": []
    },
    {
      "cell_type": "code",
      "metadata": {
        "id": "hB5KYnNZGhhw"
      },
      "source": [
        "# Considering only 10000 data items form Complete dataset\r\n",
        "\r\n",
        "df = df.head(10000)"
      ],
      "execution_count": 28,
      "outputs": []
    },
    {
      "cell_type": "code",
      "metadata": {
        "id": "hT6Y07INXPgl"
      },
      "source": [
        "\r\n",
        "# Converting values in [ ' Value' ] column in to intgers after preprocessing each value.\r\n",
        "\r\n",
        "df[' Value']  = df[' Value'].apply(\r\n",
        "    lambda value: (int(value.replace(',', '').replace('$' , '')))\r\n",
        ")\r\n"
      ],
      "execution_count": 30,
      "outputs": []
    },
    {
      "cell_type": "code",
      "metadata": {
        "colab": {
          "base_uri": "https://localhost:8080/",
          "height": 195
        },
        "id": "nIxdrCn0XduS",
        "outputId": "fdbbda7f-270c-4430-fe27-b3d1747f1bca"
      },
      "source": [
        "df.tail()"
      ],
      "execution_count": 31,
      "outputs": [
        {
          "output_type": "execute_result",
          "data": {
            "text/html": [
              "<div>\n",
              "<style scoped>\n",
              "    .dataframe tbody tr th:only-of-type {\n",
              "        vertical-align: middle;\n",
              "    }\n",
              "\n",
              "    .dataframe tbody tr th {\n",
              "        vertical-align: top;\n",
              "    }\n",
              "\n",
              "    .dataframe thead th {\n",
              "        text-align: right;\n",
              "    }\n",
              "</style>\n",
              "<table border=\"1\" class=\"dataframe\">\n",
              "  <thead>\n",
              "    <tr style=\"text-align: right;\">\n",
              "      <th></th>\n",
              "      <th>Show Number</th>\n",
              "      <th>Air Date</th>\n",
              "      <th>Round</th>\n",
              "      <th>Category</th>\n",
              "      <th>Value</th>\n",
              "      <th>Question</th>\n",
              "      <th>Answer</th>\n",
              "    </tr>\n",
              "  </thead>\n",
              "  <tbody>\n",
              "    <tr>\n",
              "      <th>10164</th>\n",
              "      <td>5825</td>\n",
              "      <td>2010-01-01</td>\n",
              "      <td>Double Jeopardy!</td>\n",
              "      <td>BEYOND .COM</td>\n",
              "      <td>2000</td>\n",
              "      <td>As of 2010, you can invent your own domain, ac...</td>\n",
              "      <td>.org (.net accepted)</td>\n",
              "    </tr>\n",
              "    <tr>\n",
              "      <th>10165</th>\n",
              "      <td>5825</td>\n",
              "      <td>2010-01-01</td>\n",
              "      <td>Double Jeopardy!</td>\n",
              "      <td>PICK A PLANET</td>\n",
              "      <td>2000</td>\n",
              "      <td>Leda is its 13th moon</td>\n",
              "      <td>Jupiter</td>\n",
              "    </tr>\n",
              "    <tr>\n",
              "      <th>10166</th>\n",
              "      <td>5825</td>\n",
              "      <td>2010-01-01</td>\n",
              "      <td>Double Jeopardy!</td>\n",
              "      <td>THE ASSASSINATION OF LINCOLN</td>\n",
              "      <td>2000</td>\n",
              "      <td>Attempts on the lives of VP Andrew Johnson &amp; t...</td>\n",
              "      <td>Seward</td>\n",
              "    </tr>\n",
              "    <tr>\n",
              "      <th>10167</th>\n",
              "      <td>5825</td>\n",
              "      <td>2010-01-01</td>\n",
              "      <td>Double Jeopardy!</td>\n",
              "      <td>B.C. &amp; AFTER</td>\n",
              "      <td>2000</td>\n",
              "      <td>Homo erectus archaeological find on Jakarta's ...</td>\n",
              "      <td>Java Man Ray</td>\n",
              "    </tr>\n",
              "    <tr>\n",
              "      <th>10169</th>\n",
              "      <td>5416</td>\n",
              "      <td>2008-03-10</td>\n",
              "      <td>Jeopardy!</td>\n",
              "      <td>THE WORLD OF MR. BURNS</td>\n",
              "      <td>200</td>\n",
              "      <td>&lt;a href=\"http://www.j-archive.com/media/2008-0...</td>\n",
              "      <td>business</td>\n",
              "    </tr>\n",
              "  </tbody>\n",
              "</table>\n",
              "</div>"
            ],
            "text/plain": [
              "       Show Number  ...                Answer\n",
              "10164         5825  ...  .org (.net accepted)\n",
              "10165         5825  ...               Jupiter\n",
              "10166         5825  ...                Seward\n",
              "10167         5825  ...          Java Man Ray\n",
              "10169         5416  ...              business\n",
              "\n",
              "[5 rows x 7 columns]"
            ]
          },
          "metadata": {
            "tags": []
          },
          "execution_count": 31
        }
      ]
    },
    {
      "cell_type": "code",
      "metadata": {
        "id": "lzvdA5u7XbbH"
      },
      "source": [
        "# Creating categories by using binnig concept\r\n",
        "\r\n",
        "# Below funciton will round the value to its nearest hundread or thousand based on the if else condition if falls below\r\n",
        "\r\n",
        "def convert_to_categories(x):\r\n",
        "    if int(x) < 1000:\r\n",
        "        return np.round(int(x), -2)\r\n",
        "    elif int(x) < 10000:\r\n",
        "        return np.round(int(x), -3)\r\n",
        "    else:\r\n",
        "        return np.round(int(x), -4)\r\n",
        "\r\n",
        "df['New_value'] = df[' Value'].apply(convert_to_categories)"
      ],
      "execution_count": 32,
      "outputs": []
    },
    {
      "cell_type": "code",
      "metadata": {
        "colab": {
          "base_uri": "https://localhost:8080/",
          "height": 195
        },
        "id": "6OH8rwPfXs6C",
        "outputId": "5093245e-0772-4f94-e1c3-cf8d7151ef6f"
      },
      "source": [
        "df.head()"
      ],
      "execution_count": 33,
      "outputs": [
        {
          "output_type": "execute_result",
          "data": {
            "text/html": [
              "<div>\n",
              "<style scoped>\n",
              "    .dataframe tbody tr th:only-of-type {\n",
              "        vertical-align: middle;\n",
              "    }\n",
              "\n",
              "    .dataframe tbody tr th {\n",
              "        vertical-align: top;\n",
              "    }\n",
              "\n",
              "    .dataframe thead th {\n",
              "        text-align: right;\n",
              "    }\n",
              "</style>\n",
              "<table border=\"1\" class=\"dataframe\">\n",
              "  <thead>\n",
              "    <tr style=\"text-align: right;\">\n",
              "      <th></th>\n",
              "      <th>Show Number</th>\n",
              "      <th>Air Date</th>\n",
              "      <th>Round</th>\n",
              "      <th>Category</th>\n",
              "      <th>Value</th>\n",
              "      <th>Question</th>\n",
              "      <th>Answer</th>\n",
              "      <th>New_value</th>\n",
              "    </tr>\n",
              "  </thead>\n",
              "  <tbody>\n",
              "    <tr>\n",
              "      <th>0</th>\n",
              "      <td>4680</td>\n",
              "      <td>2004-12-31</td>\n",
              "      <td>Jeopardy!</td>\n",
              "      <td>HISTORY</td>\n",
              "      <td>200</td>\n",
              "      <td>For the last 8 years of his life, Galileo was ...</td>\n",
              "      <td>Copernicus</td>\n",
              "      <td>200</td>\n",
              "    </tr>\n",
              "    <tr>\n",
              "      <th>1</th>\n",
              "      <td>4680</td>\n",
              "      <td>2004-12-31</td>\n",
              "      <td>Jeopardy!</td>\n",
              "      <td>ESPN's TOP 10 ALL-TIME ATHLETES</td>\n",
              "      <td>200</td>\n",
              "      <td>No. 2: 1912 Olympian; football star at Carlisl...</td>\n",
              "      <td>Jim Thorpe</td>\n",
              "      <td>200</td>\n",
              "    </tr>\n",
              "    <tr>\n",
              "      <th>2</th>\n",
              "      <td>4680</td>\n",
              "      <td>2004-12-31</td>\n",
              "      <td>Jeopardy!</td>\n",
              "      <td>EVERYBODY TALKS ABOUT IT...</td>\n",
              "      <td>200</td>\n",
              "      <td>The city of Yuma in this state has a record av...</td>\n",
              "      <td>Arizona</td>\n",
              "      <td>200</td>\n",
              "    </tr>\n",
              "    <tr>\n",
              "      <th>3</th>\n",
              "      <td>4680</td>\n",
              "      <td>2004-12-31</td>\n",
              "      <td>Jeopardy!</td>\n",
              "      <td>THE COMPANY LINE</td>\n",
              "      <td>200</td>\n",
              "      <td>In 1963, live on \"The Art Linkletter Show\", th...</td>\n",
              "      <td>McDonald's</td>\n",
              "      <td>200</td>\n",
              "    </tr>\n",
              "    <tr>\n",
              "      <th>4</th>\n",
              "      <td>4680</td>\n",
              "      <td>2004-12-31</td>\n",
              "      <td>Jeopardy!</td>\n",
              "      <td>EPITAPHS &amp; TRIBUTES</td>\n",
              "      <td>200</td>\n",
              "      <td>Signer of the Dec. of Indep., framer of the Co...</td>\n",
              "      <td>John Adams</td>\n",
              "      <td>200</td>\n",
              "    </tr>\n",
              "  </tbody>\n",
              "</table>\n",
              "</div>"
            ],
            "text/plain": [
              "   Show Number    Air Date  ...      Answer New_value\n",
              "0         4680  2004-12-31  ...  Copernicus       200\n",
              "1         4680  2004-12-31  ...  Jim Thorpe       200\n",
              "2         4680  2004-12-31  ...     Arizona       200\n",
              "3         4680  2004-12-31  ...  McDonald's       200\n",
              "4         4680  2004-12-31  ...  John Adams       200\n",
              "\n",
              "[5 rows x 8 columns]"
            ]
          },
          "metadata": {
            "tags": []
          },
          "execution_count": 33
        }
      ]
    },
    {
      "cell_type": "code",
      "metadata": {
        "id": "7ZRtJLzL_iwH"
      },
      "source": [
        "# 2D arrays storing [\"Values\"]  and  [\"Question\"] columns series from dataset \r\n",
        "\r\n",
        "X_new= df.iloc[:,  5].values\r\n",
        "y_new= df.iloc[: ,-1].values"
      ],
      "execution_count": 34,
      "outputs": []
    },
    {
      "cell_type": "code",
      "metadata": {
        "colab": {
          "base_uri": "https://localhost:8080/"
        },
        "id": "hJqRCoLM_8lf",
        "outputId": "cb658a07-78c4-4a2c-df69-5683d9718e1d"
      },
      "source": [
        "print(X_new)"
      ],
      "execution_count": 35,
      "outputs": [
        {
          "output_type": "stream",
          "text": [
            "[\"For the last 8 years of his life, Galileo was under house arrest for espousing this man's theory\"\n",
            " 'No. 2: 1912 Olympian; football star at Carlisle Indian School; 6 MLB seasons with the Reds, Giants & Braves'\n",
            " 'The city of Yuma in this state has a record average of 4,055 hours of sunshine each year'\n",
            " ...\n",
            " 'Attempts on the lives of VP Andrew Johnson & this Secretary of State were also part of the plot'\n",
            " \"Homo erectus archaeological find on Jakarta's island by an expatriate U.S. photographer\"\n",
            " '<a href=\"http://www.j-archive.com/media/2008-03-10_J_01.mp3\">I\\'ve said it before: \"Family. Religion. Friendship. These are 3 demons you must slay if you wish to succeed in\" this</a>']\n"
          ],
          "name": "stdout"
        }
      ]
    },
    {
      "cell_type": "markdown",
      "metadata": {
        "id": "9tfmJTM8NPEs"
      },
      "source": [
        "#Creating Bag of words model"
      ]
    },
    {
      "cell_type": "code",
      "metadata": {
        "id": "7pOTFwSu9gmX"
      },
      "source": [
        "# Building bag of words\r\n",
        "\r\n",
        "corpus = []\r\n",
        "\r\n",
        "length = df.shape[0]\r\n",
        "\r\n",
        "for i in range(len(X_new)):\r\n",
        "  review = re.sub('[^a-zA-Z]', ' ', X_new[i])\r\n",
        "  review = review.lower()\r\n",
        "  review = review.split()\r\n",
        "  ps = PorterStemmer()\r\n",
        "  all_stopwords = stopwords.words('english')\r\n",
        "  all_stopwords.remove('not')\r\n",
        "  review = [ps.stem(word) for word in review if not word in set(all_stopwords)]\r\n",
        "  review = ' '.join(review)\r\n",
        "  corpus.append(review)"
      ],
      "execution_count": 36,
      "outputs": []
    },
    {
      "cell_type": "code",
      "metadata": {
        "colab": {
          "base_uri": "https://localhost:8080/"
        },
        "id": "zhBasqGnAJHE",
        "outputId": "054cbbdb-e3e6-472a-aaed-edb410679c3d"
      },
      "source": [
        "print(len(corpus))"
      ],
      "execution_count": 37,
      "outputs": [
        {
          "output_type": "stream",
          "text": [
            "10000\n"
          ],
          "name": "stdout"
        }
      ]
    },
    {
      "cell_type": "markdown",
      "metadata": {
        "id": "eMOU9OxxNYQl"
      },
      "source": [
        "#Split dataset into  Train and Test Data"
      ]
    },
    {
      "cell_type": "code",
      "metadata": {
        "id": "H-AoplJNAUvH"
      },
      "source": [
        "# Creating train and test data split\r\n",
        "\r\n",
        "from sklearn.model_selection import train_test_split\r\n",
        "X_train, X_test, y_train, y_test = train_test_split(corpus, y_new, test_size = 0.25, random_state = 0)"
      ],
      "execution_count": 38,
      "outputs": []
    },
    {
      "cell_type": "code",
      "metadata": {
        "colab": {
          "base_uri": "https://localhost:8080/"
        },
        "id": "tfApK50VaFcx",
        "outputId": "e4184de8-7d50-4f28-cee9-99f734dddb7f"
      },
      "source": [
        "\r\n",
        "#Finding all unique classes ( outputs ) in dataset\r\n",
        "\r\n",
        "classes = df['New_value'].unique()\r\n",
        "\r\n",
        "print(type(classes[0]))"
      ],
      "execution_count": 40,
      "outputs": [
        {
          "output_type": "stream",
          "text": [
            "<class 'numpy.int64'>\n"
          ],
          "name": "stdout"
        }
      ]
    },
    {
      "cell_type": "code",
      "metadata": {
        "id": "7kblmPC-EKA4"
      },
      "source": [
        "# Encoding function for outputs\r\n",
        "\r\n",
        "# It assigns a integer value for every unique class.\r\n",
        "\r\n",
        "label =0\r\n",
        "encode = {}\r\n",
        "\r\n",
        "for i in classes:\r\n",
        "  if i not in encode:\r\n",
        "    encode[i]=label\r\n",
        "    label+=1"
      ],
      "execution_count": 41,
      "outputs": []
    },
    {
      "cell_type": "code",
      "metadata": {
        "colab": {
          "base_uri": "https://localhost:8080/"
        },
        "id": "KGz-4vwecwJR",
        "outputId": "8fc8ecab-e4d2-4b01-8f2b-893f6e341dc9"
      },
      "source": [
        "print(encode.keys())\r\n",
        "print( encode.values())"
      ],
      "execution_count": 42,
      "outputs": [
        {
          "output_type": "stream",
          "text": [
            "dict_keys([200, 400, 600, 800, 2000, 1000, 3000, 5000, 100, 300, 500, 4000, 7000, 700, 8000, 6000, 10000, 900])\n",
            "dict_values([0, 1, 2, 3, 4, 5, 6, 7, 8, 9, 10, 11, 12, 13, 14, 15, 16, 17])\n"
          ],
          "name": "stdout"
        }
      ]
    },
    {
      "cell_type": "code",
      "metadata": {
        "id": "DkW_Rz8wc_wg"
      },
      "source": [
        "#Encoding train and test datasets \r\n",
        "\r\n",
        "y_train = [encode[x] for x in y_train]\r\n",
        "y_test = [encode[x] for x in y_test]"
      ],
      "execution_count": 44,
      "outputs": []
    },
    {
      "cell_type": "markdown",
      "metadata": {
        "id": "z_GcpeSlQD_7"
      },
      "source": [
        "#Creating a BERT model "
      ]
    },
    {
      "cell_type": "code",
      "metadata": {
        "colab": {
          "base_uri": "https://localhost:8080/",
          "height": 151
        },
        "id": "TbOXROxjaasM",
        "outputId": "94e68714-0d69-4062-83ec-809f3c3ab8bf"
      },
      "source": [
        "\r\n",
        "(x_train_new,  y_train_new), (x_test_new, y_test_new), preproc = text.texts_from_array(x_train=X_train, y_train=y_train,\r\n",
        "                                                                       x_test=X_test, y_test=y_test,\r\n",
        "                                                                       class_names=classes,\r\n",
        "                                                                       preprocess_mode='bert',\r\n",
        "                                                                       maxlen=350, \r\n",
        "                                                                       max_features=200)"
      ],
      "execution_count": 46,
      "outputs": [
        {
          "output_type": "stream",
          "text": [
            "preprocessing train...\n",
            "language: en\n"
          ],
          "name": "stdout"
        },
        {
          "output_type": "display_data",
          "data": {
            "text/html": [
              "done."
            ],
            "text/plain": [
              "<IPython.core.display.HTML object>"
            ]
          },
          "metadata": {
            "tags": []
          }
        },
        {
          "output_type": "stream",
          "text": [
            "Is Multi-Label? False\n",
            "preprocessing test...\n",
            "language: en\n"
          ],
          "name": "stdout"
        },
        {
          "output_type": "display_data",
          "data": {
            "text/html": [
              "done."
            ],
            "text/plain": [
              "<IPython.core.display.HTML object>"
            ]
          },
          "metadata": {
            "tags": []
          }
        },
        {
          "output_type": "stream",
          "text": [
            "task: text classification\n"
          ],
          "name": "stdout"
        }
      ]
    },
    {
      "cell_type": "code",
      "metadata": {
        "colab": {
          "base_uri": "https://localhost:8080/"
        },
        "id": "FEzqvcFda71h",
        "outputId": "2b877205-73b1-4381-8fbc-b4ffe5c9525a"
      },
      "source": [
        "#Creating a model \r\n",
        "\r\n",
        "model = text.text_classifier('bert', train_data=(x_train_new, y_train_new), preproc=preproc)\r\n",
        "learner = ktrain.get_learner(model, train_data=(x_train_new, y_train_new), \r\n",
        "                             val_data=(x_test_new, y_test_new),\r\n",
        "                             batch_size=6)\r\n"
      ],
      "execution_count": 47,
      "outputs": [
        {
          "output_type": "stream",
          "text": [
            "Is Multi-Label? False\n",
            "maxlen is 350\n",
            "done.\n"
          ],
          "name": "stdout"
        }
      ]
    },
    {
      "cell_type": "code",
      "metadata": {
        "colab": {
          "base_uri": "https://localhost:8080/"
        },
        "id": "AYmmtEgzf6R5",
        "outputId": "b9e9c10e-a57c-48b4-9079-71223bbec072"
      },
      "source": [
        "#Training the model.... Model accuracy is about 19% when it it trained on (1/21)th part of complete Dataset. \r\n",
        "#So on runnning the code on complete Dataset there is a high chance for getting good predications and accuracy results\r\n",
        "learner.fit_onecycle(2e-5, 1)"
      ],
      "execution_count": 50,
      "outputs": [
        {
          "output_type": "stream",
          "text": [
            "\n",
            "\n",
            "begin training using onecycle policy with max lr of 2e-05...\n",
            "1250/1250 [==============================] - 1581s 1s/step - loss: 2.3813 - accuracy: 0.1624 - val_loss: 2.0909 - val_accuracy: 0.1932\n"
          ],
          "name": "stdout"
        },
        {
          "output_type": "execute_result",
          "data": {
            "text/plain": [
              "<tensorflow.python.keras.callbacks.History at 0x7f8362fc2a90>"
            ]
          },
          "metadata": {
            "tags": []
          },
          "execution_count": 50
        }
      ]
    },
    {
      "cell_type": "code",
      "metadata": {
        "id": "UB_dH6M2W4Mo"
      },
      "source": [
        "print(len(y_test))"
      ],
      "execution_count": null,
      "outputs": []
    },
    {
      "cell_type": "code",
      "metadata": {
        "id": "hb-7hBB3VxUx"
      },
      "source": [
        "# Predicting the metrics for the model.\r\n",
        "\r\n",
        "y_pred = model.predict(X_test)\r\n",
        "\r\n",
        "from sklearn.metrics import accuracy_score, classification_report\r\n",
        "accuracy_score = accuracy_score(y_test, y_pred)\r\n",
        "y_pred = model.predict(X_test)\r\n",
        "print(\"Acuracy of model\" , accuracy_score)\r\n",
        "print(classification_report(y_test, y_pred))"
      ],
      "execution_count": null,
      "outputs": []
    },
    {
      "cell_type": "code",
      "metadata": {
        "id": "y7tu38OFRX2Z"
      },
      "source": [
        "predictor.save(\"models/bert_model\")"
      ],
      "execution_count": 53,
      "outputs": []
    }
  ]
}